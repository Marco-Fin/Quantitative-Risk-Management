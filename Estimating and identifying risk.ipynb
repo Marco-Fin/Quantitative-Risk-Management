{
 "cells": [
  {
   "cell_type": "markdown",
   "metadata": {},
   "source": [
    "## Parameter estimation: Normal\n",
    "\n",
    "Parameter estimation is the strongest method of VaR estimation because it assumes that the loss distribution class is known. Parameters are estimated to fit data to this distribution, and statistical inference is then made."
   ]
  },
  {
   "cell_type": "code",
   "execution_count": 1,
   "metadata": {},
   "outputs": [
    {
     "name": "stdout",
     "output_type": "stream",
     "text": [
      "Symbols       Citibank  Morgan Stanley  Goldman Sachs  J.P. Morgan\n",
      "Date                                                              \n",
      "2004-12-31  429.328156       34.933205      85.520210    25.466949\n",
      "2005-01-03  430.130005       35.172306      86.268234    25.558342\n",
      "2005-01-04  426.476624       34.794777      85.709290    25.294933\n",
      "2005-01-05  431.823151       34.593433      85.322983    25.347610\n",
      "2005-01-06  436.011169       35.411400      86.498428    25.492500\n"
     ]
    }
   ],
   "source": [
    "import warnings\n",
    "warnings.filterwarnings('ignore')\n",
    "\n",
    "from pandas_datareader import DataReader\n",
    "from datetime import datetime\n",
    "\n",
    "stocklist = ['C', 'MS', 'GS', 'JPM']\n",
    "\n",
    "start = datetime(2004,12,31)\n",
    "end = datetime(2010,12,31)\n",
    "\n",
    "portfolio = DataReader(stocklist, 'yahoo',start, end)['Close']\n",
    "portfolio.rename(columns={'C':'Citibank', 'MS':'Morgan Stanley','GS':'Goldman Sachs','JPM':'J.P. Morgan'}, inplace=True)\n",
    "print(portfolio.head())\n",
    "\n",
    "weights = [0.25, 0.25, 0.25, 0.25]"
   ]
  },
  {
   "cell_type": "code",
   "execution_count": 2,
   "metadata": {},
   "outputs": [],
   "source": [
    "# Compute the portfolio's daily returns\n",
    "portfolio_returns = portfolio.pct_change().dot(weights).dropna()\n",
    "\n",
    "# Compute the portfolio's daily losses\n",
    "portfolio_losses = -portfolio_returns.dropna()"
   ]
  },
  {
   "cell_type": "code",
   "execution_count": 3,
   "metadata": {},
   "outputs": [
    {
     "name": "stdout",
     "output_type": "stream",
     "text": [
      "VaR_95, Normal distribution:  0.053847135851155956\n",
      "Anderson-Darling test result:  AndersonResult(statistic=86.72001797254302, critical_values=array([0.574, 0.654, 0.785, 0.916, 1.089]), significance_level=array([15. , 10. ,  5. ,  2.5,  1. ]))\n"
     ]
    }
   ],
   "source": [
    "# Import the Normal distribution and skewness test from scipy.stats\n",
    "from scipy.stats import norm, anderson\n",
    "\n",
    "# Fit portfolio losses to the Normal distribution\n",
    "params = norm.fit(portfolio_losses)\n",
    "\n",
    "# Compute the 95% VaR from the fitted distribution, using parameter estimates\n",
    "VaR_95 = norm.ppf(0.95, *params)\n",
    "print(\"VaR_95, Normal distribution: \", VaR_95)\n",
    "\n",
    "# Test the data for Normality\n",
    "print(\"Anderson-Darling test result: \", anderson(portfolio_losses))"
   ]
  },
  {
   "cell_type": "markdown",
   "metadata": {},
   "source": [
    "## Parameter estimation: Skewed Normal\n",
    "\n",
    "We'll parametrically estimate the 95% VaR of a loss distribution fit. This is a more general distribution than the Normal and allows losses to be non-symmetrically distributed. We might expect losses to be skewed during the crisis, when portfolio losses were more likely than gains."
   ]
  },
  {
   "cell_type": "code",
   "execution_count": 4,
   "metadata": {},
   "outputs": [
    {
     "name": "stdout",
     "output_type": "stream",
     "text": [
      "Skewtest result:  SkewtestResult(statistic=-9.471007953746154, pvalue=2.7715618850389824e-21)\n",
      "VaR_95 from skew-normal:  0.07945754001613087\n"
     ]
    }
   ],
   "source": [
    "# Import the skew-normal distribution and skewness test from scipy.stats\n",
    "from scipy.stats import skewnorm, skewtest\n",
    "\n",
    "# Fit the Student's t distribution to crisis losses\n",
    "crisis_losses = portfolio_losses.loc['2008-01-01':'2009-12-31']\n",
    "\n",
    "# Test the data for skewness\n",
    "print(\"Skewtest result: \", skewtest(crisis_losses))\n",
    "\n",
    "# Fit the portfolio loss data to the skew-normal distribution\n",
    "params = skewnorm.fit(crisis_losses)\n",
    "\n",
    "# Compute the 95% VaR from the fitted distribution, using parameter estimates\n",
    "VaR_95 = skewnorm.ppf(0.95, *params)\n",
    "print(\"VaR_95 from skew-normal: \", VaR_95)"
   ]
  },
  {
   "cell_type": "markdown",
   "metadata": {},
   "source": [
    "The Anderson-Darling and skewtest results show the Normal distribution estimates cannot be relied upon. Skewness matters for loss distributions, and parameter estimation is one way to quantify this important feature of the financial crisis."
   ]
  },
  {
   "cell_type": "markdown",
   "metadata": {},
   "source": [
    "## Historical Simulation\n",
    "\n",
    "\n",
    "Historical simulation of VaR assumes that the distribution of historical losses is the same as the distribution of future losses. We'll test if this is true for our investment bank portfolio by comparing the 95% VaR from 2005 - 2006 to the 95% VaR from 2007 - 2009."
   ]
  },
  {
   "cell_type": "code",
   "execution_count": 5,
   "metadata": {},
   "outputs": [
    {
     "name": "stdout",
     "output_type": "stream",
     "text": [
      "VaR_95, 2005-2006:  0.014422255971113386 ; VaR_95, 2007-2009:  0.05492630397498548\n"
     ]
    }
   ],
   "source": [
    "import numpy as np\n",
    "\n",
    "asset_returns_list = [portfolio['2005-01-01':'2006-12-31'].pct_change().dropna(), portfolio['2007-01-01':'2008-12-31'].pct_change().dropna()]\n",
    "\n",
    "# Create portfolio returns for the two sub-periods using the list of asset returns\n",
    "portfolio_returns_list = np.array([ x.dot(weights) for x in asset_returns_list])\n",
    "\n",
    "# Derive portfolio losses from portfolio returns\n",
    "losses = - portfolio_returns_list\n",
    "\n",
    "# Find the historical simulated VaR estimates\n",
    "VaR_95 = [np.quantile(x, 0.95) for x in losses]\n",
    "\n",
    "# Display the VaR estimates\n",
    "print(\"VaR_95, 2005-2006: \", VaR_95[0], '; VaR_95, 2007-2009: ', VaR_95[1])"
   ]
  },
  {
   "cell_type": "markdown",
   "metadata": {},
   "source": [
    "The VaR estimates are very different for the two time periods. This indicates that over the entire 2005 - 2009 period the loss distribution was likely not stationary. Historical simulation, while very general, should be used with caution when the data is not from a stationary distribution."
   ]
  },
  {
   "cell_type": "markdown",
   "metadata": {},
   "source": [
    "## Monte Carlo Simulation\n",
    "\n",
    "We can use Monte Carlo simulation of the 2005-2010 investment bank portfolio assets to find the 95% VaR."
   ]
  },
  {
   "cell_type": "code",
   "execution_count": 6,
   "metadata": {},
   "outputs": [],
   "source": [
    "from pypfopt.risk_models import CovarianceShrinkage\n",
    "\n",
    "# Create the CovarianceShrinkage instance variable\n",
    "cs = CovarianceShrinkage(portfolio)\n",
    "\n",
    "# Compute the efficient covariance matrix of returns\n",
    "e_cov = cs.ledoit_wolf()/252\n",
    "e_cov = e_cov.to_numpy()\n",
    "\n",
    "# Compute the mean and volatility\n",
    "mu = np.array(-portfolio.pct_change().dropna().mean()).reshape((4,1))\n",
    "sigma = np.array(-portfolio.pct_change().dropna().std()).reshape((4,1))\n",
    "\n",
    "total_steps = 1440\n",
    "N = 10000"
   ]
  },
  {
   "cell_type": "code",
   "execution_count": 7,
   "metadata": {},
   "outputs": [
    {
     "name": "stdout",
     "output_type": "stream",
     "text": [
      "Monte Carlo VaR_95 estimate:  0.003068436891764365\n"
     ]
    }
   ],
   "source": [
    "# Initialize daily cumulative loss for the assets, across N runs\n",
    "daily_loss = np.zeros((4,N))\n",
    "\n",
    "# Create the Monte Carlo simulations for N runs\n",
    "for n in range(N):\n",
    "    # Compute simulated path of length total_steps for correlated returns\n",
    "    correlated_randomness = e_cov @ norm.rvs(size = (4,total_steps))\n",
    "    # Adjust simulated path by total_steps and mean of portfolio losses\n",
    "    steps = 1/total_steps\n",
    "    minute_losses = mu * steps + correlated_randomness * np.sqrt(steps)\n",
    "    daily_loss[:, n] = minute_losses.sum(axis=1)\n",
    "    \n",
    "# Generate the 95% VaR estimate\n",
    "losses = weights @ daily_loss\n",
    "print(\"Monte Carlo VaR_95 estimate: \", np.quantile(losses, 0.95))"
   ]
  },
  {
   "cell_type": "markdown",
   "metadata": {},
   "source": [
    "We've shown how Monte Carlo simulation can be used to create an entire range of possible outcomes when the underlying risk factor distributions are known. The resulting riskiness of the loss distribution can then be assessed using the VaR estimate, or a more complicated estimate such as CVaR."
   ]
  },
  {
   "cell_type": "markdown",
   "metadata": {},
   "source": [
    "## Crisis structural break: I\n",
    "\n",
    "We have already seen in Chapters 1 and 2 that the global financial crisis changed investor perception regarding market risk, and influenced investor decisions on portfolio allocations to manage risk.\n",
    "\n",
    "Now we'll have a chance to investigate whether something \"structural\" changed between 2005 and 2010. In this exercise you can see if quarterly minimum portfolio values and mean return volatility time series together identify a structural break."
   ]
  },
  {
   "cell_type": "code",
   "execution_count": 8,
   "metadata": {},
   "outputs": [
    {
     "data": {
      "image/png": "[encoded data removed]",
      "text/plain": [
       "<Figure size 432x288 with 1 Axes>"
      ]
     },
     "metadata": {
      "needs_background": "light"
     },
     "output_type": "display_data"
    }
   ],
   "source": [
    "import matplotlib.pyplot as plt\n",
    "\n",
    "port_q_min = portfolio_returns.resample('Q').min()\n",
    "vol_q_mean = portfolio_returns.resample('Q').std()*np.sqrt(252)\n",
    "\n",
    "# Create a plot of quarterly minimum portfolio returns\n",
    "plt.plot(port_q_min, label=\"Quarterly minimum return\")\n",
    "\n",
    "# Create a plot of quarterly mean volatility\n",
    "plt.plot(vol_q_mean, label=\"Quarterly mean volatility\")\n",
    "\n",
    "# Create legend and plot\n",
    "plt.legend()\n",
    "plt.show()"
   ]
  },
  {
   "cell_type": "markdown",
   "metadata": {},
   "source": [
    "As we can see from the visualization, there appears to be a discrete change somewhere in the first half of 2008, but it's unclear if this is just a temporary 'blip' or something more structural. We'll now proceed to test this by building the Chow test statistic."
   ]
  },
  {
   "cell_type": "code",
   "execution_count": 9,
   "metadata": {},
   "outputs": [
    {
     "name": "stdout",
     "output_type": "stream",
     "text": [
      "(24, 1)\n",
      "<class 'pandas.core.frame.DataFrame'>\n"
     ]
    }
   ],
   "source": [
    "import pandas as pd\n",
    "\n",
    "# Read mortgage delinquency rate historical data from FRED https://fred.stlouisfed.org/series/DRSFRMACBS\n",
    "mort_del = pd.read_csv('~/Desktop/Portfolio/Quantitative Risk Management/datasets/DRSFRMACBS.csv'\\\n",
    "                       , index_col=0)\n",
    "\n",
    "mort_del.rename(columns={'DRSFRMACBS':'Mortgage Delinquency Rate'}, inplace=True)\n",
    "\n",
    "mort_del = mort_del.loc['2005-04-01':'2011-01-01']/100\n",
    "\n",
    "print(mort_del.shape)\n",
    "print(type(mort_del))"
   ]
  },
  {
   "cell_type": "code",
   "execution_count": 10,
   "metadata": {},
   "outputs": [],
   "source": [
    "# Align indexes\n",
    "mort_del = mort_del.set_index(port_q_min.index)"
   ]
  },
  {
   "cell_type": "code",
   "execution_count": 11,
   "metadata": {},
   "outputs": [
    {
     "name": "stdout",
     "output_type": "stream",
     "text": [
      "Sum-of-squared residuals, 2005-2010:  0.050388018844372565\n"
     ]
    }
   ],
   "source": [
    "# Import the statsmodels API to be able to run regressions\n",
    "import statsmodels.api as sm\n",
    "\n",
    "# Add a constant to the regression\n",
    "mort_del_with_intercept = sm.add_constant(mort_del)\n",
    "\n",
    "# Regress quarterly minimum portfolio returns against mortgage delinquencies\n",
    "result = sm.OLS(port_q_min, mort_del_with_intercept).fit()\n",
    "\n",
    "# Retrieve the sum-of-squared residuals\n",
    "ssr_total = result.ssr\n",
    "print(\"Sum-of-squared residuals, 2005-2010: \", ssr_total)"
   ]
  },
  {
   "cell_type": "markdown",
   "metadata": {},
   "source": [
    "The sum-of-squared residual total we found here will be used to build the Chow test for the crisis period!"
   ]
  },
  {
   "cell_type": "code",
   "execution_count": 12,
   "metadata": {},
   "outputs": [
    {
     "name": "stdout",
     "output_type": "stream",
     "text": [
      "Chow test statistic:  29.149112233836654\n"
     ]
    }
   ],
   "source": [
    "before = pd.concat([mort_del.loc['2005-03-31':'2008-06-30'], port_q_min.loc['2005-03-31':'2008-06-30']], axis=1)\n",
    "before = before.rename(columns={0:'Returns'})\n",
    "\n",
    "after = pd.concat([mort_del.loc['2008-09-30':'2010-12-31'], port_q_min.loc['2008-09-30':'2010-12-31']], axis=1)\n",
    "after = after.rename(columns={0:'Returns'})\n",
    "\n",
    "# Add intercept constants to each sub-period 'before' and 'after'\n",
    "before_with_intercept = sm.add_constant(before['Mortgage Delinquency Rate'])\n",
    "after_with_intercept  = sm.add_constant(after['Mortgage Delinquency Rate'])\n",
    "\n",
    "# Fit OLS regressions to each sub-period\n",
    "r_b = sm.OLS(before['Returns'], before_with_intercept).fit()\n",
    "r_a = sm.OLS(after['Returns'],  after_with_intercept).fit()\n",
    "\n",
    "# Get sum-of-squared residuals for both regressions\n",
    "ssr_before = r_b.ssr\n",
    "ssr_after = r_a.ssr\n",
    "# Compute and display the Chow test statistic\n",
    "numerator = ((ssr_total - (ssr_before + ssr_after)) / 2)\n",
    "denominator = ((ssr_before + ssr_after) / (24 - 4))\n",
    "print(\"Chow test statistic: \", numerator / denominator)"
   ]
  },
  {
   "cell_type": "markdown",
   "metadata": {},
   "source": [
    "Our test statistic was well above the critical F-value, indicating that a structural break in the data occurred in the summer of 2008. "
   ]
  },
  {
   "cell_type": "markdown",
   "metadata": {},
   "source": [
    "## Volatility and structural breaks\n",
    "\n",
    "Visualizing volatility changes helps reveal possible structural break points in time series. By identifying when volatility appears to change, an informed choice of break point can be made that can, in turn, be used for further statistical analysis (such as the Chow test)."
   ]
  },
  {
   "cell_type": "code",
   "execution_count": 19,
   "metadata": {},
   "outputs": [
    {
     "name": "stdout",
     "output_type": "stream",
     "text": [
      "Symbols     Morgan Stanley  Goldman Sachs  J.P. Morgan\n",
      "Date                                                  \n",
      "2008-01-02       50.950001     207.600006    42.169998\n",
      "2008-01-03       50.939999     204.839996    41.880001\n",
      "2008-01-04       49.299999     199.929993    40.930000\n",
      "2008-01-07       48.310001     194.729996    41.340000\n",
      "2008-01-08       46.400002     189.500000    39.700001\n"
     ]
    }
   ],
   "source": [
    "prices_with_citi = portfolio.loc['2008-01-01':'2009-12-31']\n",
    "\n",
    "stocklist = ['MS', 'GS', 'JPM']\n",
    "\n",
    "start = datetime(2008,1,1)\n",
    "end = datetime(2009,12,31)\n",
    "\n",
    "prices_without_citi = DataReader(stocklist, 'yahoo',start, end)['Close']\n",
    "prices_without_citi.rename(columns={'MS':'Morgan Stanley','GS':'Goldman Sachs','JPM':'J.P. Morgan'}, inplace=True)\n",
    "print(prices_without_citi.head())\n",
    "\n",
    "weights_with_citi = [0.25, 0.25, 0.25, 0.25]\n",
    "weights_without_citi = [1/3, 1/3, 1/3]"
   ]
  },
  {
   "cell_type": "code",
   "execution_count": 20,
   "metadata": {},
   "outputs": [
    {
     "data": {
      "image/png": "[encoded data removed]",
      "text/plain": [
       "<Figure size 432x288 with 1 Axes>"
      ]
     },
     "metadata": {
      "needs_background": "light"
     },
     "output_type": "display_data"
    }
   ],
   "source": [
    "# Find the time series of returns with and without Citibank\n",
    "ret_with_citi = prices_with_citi.pct_change().dot(weights_with_citi)\n",
    "ret_without_citi = prices_without_citi.pct_change().dot(weights_without_citi)\n",
    "\n",
    "# Find the average 30-day rolling window volatility as the standard deviation\n",
    "vol_with_citi = ret_with_citi.rolling(30).std().dropna().rename(\"With Citi\")\n",
    "vol_without_citi = ret_without_citi.rolling(30).std().dropna().rename(\"Without Citi\")\n",
    "\n",
    "# Combine two volatilities into one Pandas DataFrame\n",
    "vol = pd.concat([vol_with_citi, vol_without_citi], axis=1)\n",
    "\n",
    "# Plot volatilities over time\n",
    "vol.plot().set_ylabel(\"Losses\")\n",
    "plt.show()"
   ]
  },
  {
   "cell_type": "markdown",
   "metadata": {},
   "source": [
    "The visualizations show that Citibank's volatility alone was not responsible for the increase in portfolio volatility during the crisis. This lends futher support to a structural break sometime around the summer/fall of 2008."
   ]
  },
  {
   "cell_type": "markdown",
   "metadata": {},
   "source": [
    "## Extreme values and backtesting\n",
    "\n",
    "Extreme values are those which exceed a threshold and are used to determine if risk measures such as VaR are accurately reflecting the risk of loss.\n",
    "\n",
    "We'll explore extreme values by computing the 95% VaR of the equally-weighted investment bank portfolio for 2009-2010 (recall that this is equivalent to historical simulation from 2010 onwards), and then backtesting on data from 2007-2008."
   ]
  },
  {
   "cell_type": "code",
   "execution_count": 28,
   "metadata": {},
   "outputs": [
    {
     "name": "stdout",
     "output_type": "stream",
     "text": [
      "VaR_95:  0.0497571391978445 ; Backtest:  0.06746031746031746\n"
     ]
    },
    {
     "data": {
      "image/png": "[encoded data removed]",
      "text/plain": [
       "<Figure size 432x288 with 1 Axes>"
      ]
     },
     "metadata": {
      "needs_background": "light"
     },
     "output_type": "display_data"
    }
   ],
   "source": [
    "# 2007-2008 portfolio losses\n",
    "backtest_data = portfolio_losses['2007-01-01':'2008-12-31']\n",
    "\n",
    "# 2009-2010 portfolio losses\n",
    "estimate_data = portfolio_losses['2009-01-01':'2010-12-31']\n",
    "\n",
    "# Compute the 95% VaR on 2009-2010 losses\n",
    "VaR_95 = np.quantile(estimate_data, 0.95)\n",
    "\n",
    "# Use the 95% VaR to find extreme values from 2007-2008 losses\n",
    "extreme_values = backtest_data[backtest_data > VaR_95]\n",
    "\n",
    "# Compare the fraction of extreme values for 2007-2008 to the Var_95 estimate\n",
    "print(\"VaR_95: \", VaR_95, \"; Backtest: \", len(extreme_values) / len(backtest_data) )\n",
    "\n",
    "# Plot the extreme values and look for clustering\n",
    "plt.stem(extreme_values.index, extreme_values)\n",
    "plt.ylabel(\"Extreme values > VaR_95\"); plt.xlabel(\"Date\")\n",
    "plt.show()"
   ]
  },
  {
   "cell_type": "markdown",
   "metadata": {},
   "source": [
    "Since the relative frequency of extreme events in 2007-2008 is higher than 5%, the estimate of the 95% VaR from 2009-2010 data is not robust across the possible structural break identified before. Backtesting remains an important verifier of risk measure estimates such as VaR."
   ]
  }
 ],
 "metadata": {
  "kernelspec": {
   "display_name": "Python 3",
   "language": "python",
   "name": "python3"
  },
  "language_info": {
   "codemirror_mode": {
    "name": "ipython",
    "version": 3
   },
   "file_extension": ".py",
   "mimetype": "text/x-python",
   "name": "python",
   "nbconvert_exporter": "python",
   "pygments_lexer": "ipython3",
   "version": "3.7.6"
  }
 },
 "nbformat": 4,
 "nbformat_minor": 4
}
